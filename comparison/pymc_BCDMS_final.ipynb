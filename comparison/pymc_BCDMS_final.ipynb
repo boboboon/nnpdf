{
 "cells": [
  {
   "cell_type": "markdown",
   "id": "060d346d",
   "metadata": {},
   "source": [
    "## GP using pymc: fit BCDMS data"
   ]
  },
  {
   "cell_type": "code",
   "execution_count": 1,
   "id": "8e58369b",
   "metadata": {
    "scrolled": true
   },
   "outputs": [
    {
     "name": "stderr",
     "output_type": "stream",
     "text": [
      "WARNING (pytensor.tensor.blas): Using NumPy C-API based implementation for BLAS functions.\n"
     ]
    },
    {
     "name": "stdout",
     "output_type": "stream",
     "text": [
      "Running on PyMC v5.10.3\n"
     ]
    }
   ],
   "source": [
    "import arviz as az\n",
    "import matplotlib.pyplot as plt\n",
    "import numpy as np\n",
    "import pymc as pm\n",
    "import pytensor.tensor as pt\n",
    "#import seaborn as sns\n",
    "\n",
    "from xarray_einstats.stats import multivariate_normal\n",
    "\n",
    "print(f\"Running on PyMC v{pm.__version__}\")"
   ]
  },
  {
   "cell_type": "code",
   "execution_count": 2,
   "id": "c450f6ed",
   "metadata": {},
   "outputs": [],
   "source": [
    "RANDOM_SEED = 8927\n",
    "rng = np.random.default_rng(RANDOM_SEED)\n",
    "#az.style.use(\"arviz-darkgrid\")"
   ]
  },
  {
   "cell_type": "code",
   "execution_count": 3,
   "id": "b5c0afbf",
   "metadata": {},
   "outputs": [],
   "source": [
    "# load data covariance matrix\n",
    "Cy = np.load('./../nnpdf_input/Cy.npy')\n",
    "\n",
    "# load data \n",
    "y = np.load('./../nnpdf_input/data.npy')\n",
    "\n",
    "# load FK table\n",
    "FK = np.load('./../nnpdf_input/FK.npy')\n",
    "\n",
    "# load x-grid of the FK table\n",
    "fk_grid = np.load('./../nnpdf_input/fk_grid.npy')\n",
    "\n",
    "# load T3 from NNPDF4.0\n",
    "f_true = np.load('./../nnpdf_input/f_bcdms.npy')\n",
    "\n",
    "L1_noise = np.load(\"L1_noise_BCDMS.npy\")"
   ]
  },
  {
   "cell_type": "code",
   "execution_count": 4,
   "id": "fe10e14d",
   "metadata": {},
   "outputs": [],
   "source": [
    "n = len(fk_grid)      # number if points of the FK table xgrid \n",
    "X = fk_grid[:, None]  # The inputs to the GP must be arranged as a column vector\n",
    "\n",
    "# fit the real data\n",
    "#y_obs = y\n",
    "\n",
    "# fit pseudo-data\n",
    "y_true = FK@f_true \n",
    "y_obs = y_true + L1_noise"
   ]
  },
  {
   "cell_type": "code",
   "execution_count": 5,
   "id": "f8bdbaf7",
   "metadata": {},
   "outputs": [],
   "source": [
    "# run for kinlim only!!!\n",
    "from scipy.linalg import block_diag\n",
    "\n",
    "def kinlim(y,Cy,FK):\n",
    "    ngrid = FK.shape[1]\n",
    "    A = np.zeros(ngrid)\n",
    "    A[ngrid - 1] = 1.0\n",
    "    FK_kinlim = np.block([[FK], [A]])\n",
    "    y_kinlim = np.concatenate([y, np.zeros(1)])\n",
    "    Cy_kinlim = block_diag(Cy, 1e-6*np.identity(1))\n",
    "    return y_kinlim, Cy_kinlim, FK_kinlim\n",
    "\n",
    "y_obs, Cy, FK = kinlim(y_obs, Cy, FK)\n"
   ]
  },
  {
   "cell_type": "code",
   "execution_count": 6,
   "id": "dfd4b456",
   "metadata": {},
   "outputs": [],
   "source": [
    "N = Cy.shape[0]      # The number of data points\n",
    "\n",
    "# function f(x)=x^alpha to rescale given kernel as f(x)k(x,y)f(y)\n",
    "def scaling_function(X,alpha):\n",
    "    return pm.math.exp(alpha * pm.math.log(X))\n",
    "\n",
    "\n",
    "# correlation length entering Gibbs kernel definition\n",
    "eps = 1e-6\n",
    "def l(x, l0, eps):\n",
    "    return l0 * (x + eps)\n",
    "\n",
    "# fix alpha to given value which ensures integrability properties\n",
    "#alpha = -0.5\n",
    "\n",
    "with pm.Model() as gp_fit:\n",
    "    \n",
    "    # take zero mean function\n",
    "    mu = np.zeros(N)\n",
    "    \n",
    "    # prior on hyperparameters\n",
    "    #l0 = pm.HalfCauchy(\"l0\", 5)\n",
    "    #sigma = pm.HalfCauchy(\"sigma\", 5)\n",
    "    l0 = pm.Uniform(\"l0\", lower=0, upper=10)\n",
    "    sigma = pm.Uniform(\"sigma\", lower=0, upper=10)\n",
    "    alpha = pm.Uniform(\"alpha\", lower=-0.9, upper=0)\n",
    "    \n",
    "    #l0 = pm.Normal(\"l0\", mu=10, sigma=2)\n",
    "    #sigma = pm.Normal(\"sigma\", mu=10, sigma=2)\n",
    "    \n",
    "    # build the kernel\n",
    "    kernel_ = sigma**2 * pm.gp.cov.Gibbs(1,l,args=(l0, eps))\n",
    "    \n",
    "    # rescale the kernel for small-x behaviour\n",
    "    kernel = pm.gp.cov.ScaledCov(1, scaling_func=scaling_function, args=(alpha), cov_func=kernel_)\n",
    "    \n",
    "    \n",
    "    # build the likelihood p(y|theta)\n",
    "    Sigma = pt.dot(pt.dot(FK, kernel(X)),FK.T) + Cy\n",
    "    y = pm.MvNormal(\"y\", mu=mu, cov=Sigma, observed=y_obs)"
   ]
  },
  {
   "cell_type": "code",
   "execution_count": 7,
   "id": "4ba8d440",
   "metadata": {},
   "outputs": [],
   "source": [
    "# define grid for f*\n",
    "grids_smallx = np.geomspace(1e-6, 0.1, 100)\n",
    "grids_largex = np.linspace(0.1, 1., 100)\n",
    "grids = np.concatenate([grids_smallx, grids_largex])\n",
    "Xs = grids[:, None]\n",
    "\n",
    "gp_fit.add_coords({\"Xs\": grids, \"y\": y, \"X\": fk_grid })\n",
    "\n",
    "\n",
    "# now define the deterministic variable mu_post and sigma_post\n",
    "with gp_fit as gp:\n",
    "    \n",
    "    # build Kx*x*\n",
    "    sigma_pred = kernel(Xs)\n",
    "    \n",
    "    # build Kx*x\n",
    "    kernel_off_diag = kernel(Xs,X)\n",
    "    \n",
    "    # build Kx*x FK.T\n",
    "    sigma_off_diag = pt.dot(kernel_off_diag,FK.T)\n",
    "\n",
    "    # Posterior mean. \n",
    "    # Deterministic random variable: its value is completely determined by its parents’ values. \n",
    "    # By wrapping the variable in Deterministic and giving it a name, you are saving this value in the trace\n",
    "    \n",
    "    mu_post = pm.Deterministic(\n",
    "        \"mu_post\", pt.dot(pt.dot(sigma_off_diag, pm.math.matrix_inverse(Sigma)), y_obs), dims=\"Xs\"\n",
    "    )\n",
    "    \n",
    "    # Posterior covariance\n",
    "    sigma_post = pm.Deterministic(\n",
    "        \"sigma_post\",\n",
    "        sigma_pred\n",
    "        - pt.dot(pt.dot(sigma_off_diag, pm.math.matrix_inverse(Sigma)), sigma_off_diag.T),\n",
    "        dims=(\"Xs\", \"Xs\"),\n",
    "    )\n",
    "    "
   ]
  },
  {
   "cell_type": "code",
   "execution_count": 8,
   "id": "9a163ed9",
   "metadata": {
    "scrolled": true
   },
   "outputs": [
    {
     "name": "stderr",
     "output_type": "stream",
     "text": [
      "Compiling...\n",
      "Compilation time = 0:00:02.510321\n",
      "Sampling...\n"
     ]
    },
    {
     "data": {
      "application/vnd.jupyter.widget-view+json": {
       "model_id": "50fbd809a816474799d9c9863369f188",
       "version_major": 2,
       "version_minor": 0
      },
      "text/plain": [
       "  0%|          | 0/2000 [00:00<?, ?it/s]"
      ]
     },
     "metadata": {},
     "output_type": "display_data"
    },
    {
     "data": {
      "application/vnd.jupyter.widget-view+json": {
       "model_id": "32b1427a75ed44c8961b6209873712ed",
       "version_major": 2,
       "version_minor": 0
      },
      "text/plain": [
       "  0%|          | 0/2000 [00:00<?, ?it/s]"
      ]
     },
     "metadata": {},
     "output_type": "display_data"
    },
    {
     "data": {
      "application/vnd.jupyter.widget-view+json": {
       "model_id": "aa82a33bccb744c5ab5e910ae1917e83",
       "version_major": 2,
       "version_minor": 0
      },
      "text/plain": [
       "  0%|          | 0/2000 [00:00<?, ?it/s]"
      ]
     },
     "metadata": {},
     "output_type": "display_data"
    },
    {
     "data": {
      "application/vnd.jupyter.widget-view+json": {
       "model_id": "2ca4e920c177464794140d5b24b3a132",
       "version_major": 2,
       "version_minor": 0
      },
      "text/plain": [
       "  0%|          | 0/2000 [00:00<?, ?it/s]"
      ]
     },
     "metadata": {},
     "output_type": "display_data"
    },
    {
     "name": "stderr",
     "output_type": "stream",
     "text": [
      "Sampling time = 0:15:35.118279\n",
      "Transforming variables...\n",
      "Transformation time = 0:00:59.841714\n",
      "/Users/giacomo/Documents/Scuola/lsqfitgp/Articoli nostri/GP_toy/pyenv/lib/python3.11/site-packages/xarray/namedarray/core.py:487: UserWarning: Duplicate dimension names present: dimensions {'Xs'} appear more than once in dims=('chain', 'draw', 'Xs', 'Xs'). We do not yet support duplicate dimension names, but we do allow initial construction of the object. We recommend you rename the dims immediately to become distinct, as most xarray functionality is likely to fail silently if you do not. To rename the dimensions you will need to set the ``.dims`` attribute of each variable, ``e.g. var.dims=('x0', 'x1')``.\n",
      "  warnings.warn(\n"
     ]
    }
   ],
   "source": [
    "# run MCMC to sample from the posterior p(theta|y)\n",
    "with gp_fit:\n",
    "    trace = pm.sample(target_accept=0.9, nuts_sampler=\"numpyro\")"
   ]
  },
  {
   "cell_type": "code",
   "execution_count": 9,
   "id": "84081b87",
   "metadata": {},
   "outputs": [
    {
     "data": {
      "text/plain": [
       "'BCDMS_L1.nc'"
      ]
     },
     "execution_count": 9,
     "metadata": {},
     "output_type": "execute_result"
    }
   ],
   "source": [
    "trace.to_netcdf(\"BCDMS_L1.nc\")"
   ]
  }
 ],
 "metadata": {
  "kernelspec": {
   "display_name": "Python 3 (ipykernel)",
   "language": "python",
   "name": "python3"
  },
  "language_info": {
   "codemirror_mode": {
    "name": "ipython",
    "version": 3
   },
   "file_extension": ".py",
   "mimetype": "text/x-python",
   "name": "python",
   "nbconvert_exporter": "python",
   "pygments_lexer": "ipython3",
   "version": "3.11.7"
  }
 },
 "nbformat": 4,
 "nbformat_minor": 5
}
